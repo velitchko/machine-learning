{
 "cells": [
  {
   "cell_type": "markdown",
   "metadata": {},
   "source": [
    "## Imports "
   ]
  },
  {
   "cell_type": "code",
   "execution_count": 27,
   "metadata": {},
   "outputs": [],
   "source": [
    "import math\n",
    "from sklearn import model_selection\n",
    "from sklearn.model_selection import train_test_split \n",
    "from sklearn import metrics \n",
    "from sklearn.metrics import mean_absolute_error, mean_squared_error, r2_score\n",
    "from random import *"
   ]
  },
  {
   "cell_type": "markdown",
   "metadata": {},
   "source": [
    "## Simulated Annealing"
   ]
  },
  {
   "cell_type": "code",
   "execution_count": null,
   "metadata": {},
   "outputs": [],
   "source": [
    "# Simulated Annealing function steps\n",
    "# @parameters \n",
    "# sol - random solution\n",
    "# @return solution and cost\n",
    "\n",
    "# 1. Generate a random solution\n",
    "# 2. Calculate its cost using a cost function (accuracy of the ML Model)\n",
    "# 3. Generate a random neigboring solution\n",
    "# 4. Calculate new solutions cost (accuracy of the ML model)\n",
    "# 5. Compare solutions\n",
    "#     - If c_new > c_old move to the new solution\n",
    "#     - If c_new < c_old maybe move to the new solution\n",
    "# 6. Repeat steps until an acceptable solution is found or max number of iterations is reached\n",
    "def sa(sol, X_train, y_train, X_test, y_test):\n",
    "    t = 1.0\n",
    "    t_min = 0.00001\n",
    "    alpha = 0.9\n",
    "    old_cost = cost(sol, X_train, y_train, X_test, y_test)\n",
    "    while t > t_min:\n",
    "        i = 1\n",
    "        while i <= 100:\n",
    "            new_sol = neighbor(sol)\n",
    "            new_cost = cost(new_sol, X_train, y_train, X_test, y_test)\n",
    "            ap = acceptance_probability(old_cost, new_cost, t)\n",
    "            if ap > random():\n",
    "                sol = new_sol\n",
    "                old_cost = new_cost\n",
    "            i += 1\n",
    "        t = t * alpha\n",
    "    return sol, cost          "
   ]
  },
  {
   "cell_type": "code",
   "execution_count": 35,
   "metadata": {},
   "outputs": [],
   "source": [
    "# Function to generate neighboring solution\n",
    "# Solution is defined as a machine learning model along with a set of parameters\n",
    "# i.e.,\n",
    "# solution = {\n",
    "#     model: 'LinearRegression',\n",
    "#     parameters: {\n",
    "#         fit_intercept: true,\n",
    "#         normalize: true,\n",
    "#         copy_X: false,\n",
    "#         n_jobs: 4,\n",
    "#     }\n",
    "# }\n",
    "# TODO: Implement for each ML model (could use cases inside)\n",
    "def neighbor(sol):\n",
    "    # Use the search_space to find a new neighbor of the current solution and return that\n",
    "    parameter_space = search_space[sol['name']]\n",
    "    \n",
    "    # Chose a random parameter and modify it \n",
    "    parameter = choice(list(parameter_space.keys())) # random.choice()\n",
    "    \n",
    "    # Grab the random parameter from our current solution and change it\n",
    "    modified_parameter = sol['parameters'][parameter]\n",
    "    # TODO: How do we know its value rand and what we should change it to?\n",
    "    \n",
    "    # Create a new solution copy the current one and replace the randomly chosen parameter\n",
    "    new_sol = sol\n",
    "    new_sol[parameter] = modified_parameter\n",
    "    \n",
    "    # Return new neighboring solution\n",
    "    return new_sol"
   ]
  },
  {
   "cell_type": "code",
   "execution_count": null,
   "metadata": {},
   "outputs": [],
   "source": [
    "# Function to return the cost of a current solution\n",
    "# In our case the cost is the accuracy (or we can use other metrics) of the current ML model / parameter configuration\n",
    "# TODO: RMSE or some other metric?\n",
    "def cost(sol, X_train, y_train, X_test, y_test): \n",
    "    # TODO Here we need to train the model on the data\n",
    "    return sol.score()"
   ]
  },
  {
   "cell_type": "code",
   "execution_count": null,
   "metadata": {},
   "outputs": [],
   "source": [
    "# Function which recommends if we should jump to a new solutions or not\n",
    "# 1.0 - definitely switch\n",
    "# 0.0 - definitely stay put\n",
    "# 0.5 - 50/50 odds of switching\n",
    "# Usually calculated by e^((c_new - c_old)/t)\n",
    "\n",
    "def acceptance_probability(old_cost, new_cost, t): \n",
    "    if new_cost < old_cost:\n",
    "        return 1.0;\n",
    "    else:\n",
    "        return math.exp((new_cost - old_cost)/t)"
   ]
  },
  {
   "cell_type": "markdown",
   "metadata": {},
   "source": [
    "## ML Models"
   ]
  },
  {
   "cell_type": "code",
   "execution_count": 19,
   "metadata": {},
   "outputs": [],
   "source": [
    "# TODO: Define 5 ML models\n",
    "\n",
    "# Search Space that will be used to define our neighborhood of ML models and hyperparameters\n",
    "search_space = {\n",
    "    'Model1': {\n",
    "        'property1': 'value_range',\n",
    "        'property2': 'value_range',\n",
    "        'property3': 'value_range',\n",
    "        'property4': 'value_range'\n",
    "    },\n",
    "    'Model2': {\n",
    "        'property1': 'value_range',\n",
    "        'property2': 'value_range',\n",
    "        'property3': 'value_range',\n",
    "        'property4': 'value_range'\n",
    "    },\n",
    "    'Model3': {\n",
    "        'property1': 'value_range',\n",
    "        'property2': 'value_range',\n",
    "        'property3': 'value_range',\n",
    "        'property4': 'value_range'\n",
    "    },\n",
    "    'Model4': {\n",
    "        'property1': 'value_range',\n",
    "        'property2': 'value_range',\n",
    "        'property3': 'value_range',\n",
    "        'property4': 'value_range'\n",
    "    },\n",
    "    'Model5': {\n",
    "        'property1': 'value_range',\n",
    "        'property2': 'value_range',\n",
    "        'property3': 'value_range',\n",
    "        'property4': 'value_range'\n",
    "    }\n",
    "}"
   ]
  },
  {
   "cell_type": "code",
   "execution_count": 43,
   "metadata": {},
   "outputs": [
    {
     "data": {
      "text/plain": [
       "'value_range'"
      ]
     },
     "execution_count": 43,
     "metadata": {},
     "output_type": "execute_result"
    }
   ],
   "source": [
    "search_space['Model1']['property1']"
   ]
  },
  {
   "cell_type": "code",
   "execution_count": null,
   "metadata": {},
   "outputs": [],
   "source": []
  },
  {
   "cell_type": "markdown",
   "metadata": {},
   "source": [
    "## Datasets"
   ]
  },
  {
   "cell_type": "code",
   "execution_count": null,
   "metadata": {},
   "outputs": [],
   "source": [
    "# TODO: Define datasets\n",
    "X = [1, 2, 4];\n",
    "y = [1, 1, 2];\n",
    "X_train, y_train, X_test, y_test = train_test_split(X, y, test_size = 0.3, random_state = 42)"
   ]
  },
  {
   "cell_type": "markdown",
   "metadata": {},
   "source": [
    "## Evaluation"
   ]
  },
  {
   "cell_type": "code",
   "execution_count": 46,
   "metadata": {},
   "outputs": [
    {
     "data": {
      "text/plain": [
       "'value_range'"
      ]
     },
     "execution_count": 46,
     "metadata": {},
     "output_type": "execute_result"
    }
   ],
   "source": [
    "# Some random solution that we will pass to the sa() to start with\n",
    "random_solution = {\n",
    "    'name': 'Model1',\n",
    "    'parameters': {\n",
    "        'property1': 'value_range',\n",
    "        'property2': 'value_range',\n",
    "        'property3': 'value_range',\n",
    "        'property4': 'value_range'\n",
    "    }\n",
    "}\n",
    "\n",
    "new_sol = neighbor(random_solution)\n"
   ]
  },
  {
   "cell_type": "code",
   "execution_count": null,
   "metadata": {},
   "outputs": [],
   "source": [
    "sa(random_solution, X_train, y_train, X_test, y_test)"
   ]
  },
  {
   "cell_type": "code",
   "execution_count": null,
   "metadata": {},
   "outputs": [],
   "source": []
  }
 ],
 "metadata": {
  "kernelspec": {
   "display_name": "Python 3",
   "language": "python",
   "name": "python3"
  },
  "language_info": {
   "codemirror_mode": {
    "name": "ipython",
    "version": 3
   },
   "file_extension": ".py",
   "mimetype": "text/x-python",
   "name": "python",
   "nbconvert_exporter": "python",
   "pygments_lexer": "ipython3",
   "version": "3.7.4"
  }
 },
 "nbformat": 4,
 "nbformat_minor": 2
}
