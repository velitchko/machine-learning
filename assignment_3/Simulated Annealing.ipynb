{
 "cells": [
  {
   "cell_type": "markdown",
   "metadata": {},
   "source": [
    "## Imports "
   ]
  },
  {
   "cell_type": "code",
   "execution_count": 10,
   "metadata": {},
   "outputs": [],
   "source": [
    "import math\n",
    "from random import random\n"
   ]
  },
  {
   "cell_type": "markdown",
   "metadata": {},
   "source": [
    "## Simulated Annealing"
   ]
  },
  {
   "cell_type": "code",
   "execution_count": 2,
   "metadata": {},
   "outputs": [],
   "source": [
    "# Simulated Annealing function steps\n",
    "# @parameters \n",
    "# sol - random solution\n",
    "# @return solution and cost\n",
    "\n",
    "# 1. Generate a random solution\n",
    "# 2. Calculate its cost using a cost function (accuracy of the ML Model)\n",
    "# 3. Generate a random neigboring solution\n",
    "# 4. Calculate new solutions cost (accuracy of the ML model)\n",
    "# 5. Compare solutions\n",
    "#     - If c_new > c_old move to the new solution\n",
    "#     - If c_new < c_old maybe move to the new solution\n",
    "# 6. Repeat steps until an acceptable solution is found or max number of iterations is reached\n",
    "def sa(sol):\n",
    "    t = 1.0\n",
    "    t_min = 0.00001\n",
    "    alpha = 0.9\n",
    "    old_cost = cost(sol)\n",
    "    while t > t_min:\n",
    "        i = 1\n",
    "        while i <= 100:\n",
    "            new_sol = neighbor(sol)\n",
    "            new_cost = cost(new_sol)\n",
    "            ap = acceptance_probability(old_cost, new_cost, t)\n",
    "            if ap > random():\n",
    "                sol = new_sol\n",
    "                old_cost = new_cost\n",
    "            i += 1\n",
    "        t = t * alpha\n",
    "    return sol, cost          "
   ]
  },
  {
   "cell_type": "code",
   "execution_count": 3,
   "metadata": {},
   "outputs": [],
   "source": [
    "# Function to generate neighboring solution\n",
    "def neighbor(sol):\n",
    "    return "
   ]
  },
  {
   "cell_type": "code",
   "execution_count": 4,
   "metadata": {},
   "outputs": [],
   "source": [
    "# Function to return the cost of a current solution\n",
    "# In our case the cost is the accuracy (or we can use other metrics) of the current ML model / parameter configuration\n",
    "def cost(sol): \n",
    "    return sol.score()"
   ]
  },
  {
   "cell_type": "code",
   "execution_count": 18,
   "metadata": {},
   "outputs": [],
   "source": [
    "# Function which recommends if we should jump to a new solutions or not\n",
    "# 1.0 - definitely switch\n",
    "# 0.0 - definitely stay put\n",
    "# 0.5 - 50/50 odds of switching\n",
    "# Usually calculated by e^((c_new - c_old)/t)\n",
    "\n",
    "def acceptance_probability(old_cost, new_cost, t): \n",
    "    if new_cost < old_cost:\n",
    "        return 1.0;\n",
    "    else:\n",
    "        return math.exp((new_cost - old_cost)/t)"
   ]
  },
  {
   "cell_type": "code",
   "execution_count": 6,
   "metadata": {},
   "outputs": [],
   "source": [
    "# Some random solution that we will pass to the sa() to start with\n",
    "random_solution = {\n",
    "    \n",
    "}"
   ]
  },
  {
   "cell_type": "code",
   "execution_count": 7,
   "metadata": {},
   "outputs": [],
   "source": [
    "# Some random neighboring solution that we will pass to sa() to compare with\n",
    "neighboring_solution = {\n",
    "    \n",
    "}"
   ]
  },
  {
   "cell_type": "markdown",
   "metadata": {},
   "source": [
    "## ML Models"
   ]
  },
  {
   "cell_type": "code",
   "execution_count": null,
   "metadata": {},
   "outputs": [],
   "source": []
  },
  {
   "cell_type": "code",
   "execution_count": null,
   "metadata": {},
   "outputs": [],
   "source": []
  }
 ],
 "metadata": {
  "kernelspec": {
   "display_name": "Python 3",
   "language": "python",
   "name": "python3"
  },
  "language_info": {
   "codemirror_mode": {
    "name": "ipython",
    "version": 3
   },
   "file_extension": ".py",
   "mimetype": "text/x-python",
   "name": "python",
   "nbconvert_exporter": "python",
   "pygments_lexer": "ipython3",
   "version": "3.7.4"
  }
 },
 "nbformat": 4,
 "nbformat_minor": 2
}
