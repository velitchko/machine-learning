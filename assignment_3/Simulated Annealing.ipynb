{
 "cells": [
  {
   "cell_type": "markdown",
   "metadata": {},
   "source": [
    "## Imports "
   ]
  },
  {
   "cell_type": "code",
   "execution_count": 63,
   "metadata": {},
   "outputs": [],
   "source": [
    "import math\n",
    "import numpy as np\n",
    "from sklearn import model_selection\n",
    "from sklearn import datasets\n",
    "from sklearn.model_selection import train_test_split \n",
    "from sklearn import metrics \n",
    "from sklearn.metrics import mean_absolute_error, mean_squared_error, r2_score\n",
    "from random import *"
   ]
  },
  {
   "cell_type": "markdown",
   "metadata": {},
   "source": [
    "## Simulated Annealing"
   ]
  },
  {
   "cell_type": "code",
   "execution_count": null,
   "metadata": {},
   "outputs": [],
   "source": [
    "# Simulated Annealing function steps\n",
    "# @parameters \n",
    "# sol - random solution (ML model)\n",
    "# X_train, y_train - training data\n",
    "# X_test, y_test - testing data\n",
    "# @return solution and cost\n",
    "\n",
    "# 1. Generate a random solution\n",
    "# 2. Calculate its cost using a cost function (accuracy of the ML Model)\n",
    "# 3. Generate a random neigboring solution\n",
    "# 4. Calculate new solutions cost (accuracy of the ML model)\n",
    "# 5. Compare solutions\n",
    "#     - If c_new > c_old move to the new solution\n",
    "#     - If c_new < c_old maybe move to the new solution\n",
    "# 6. Repeat steps until an acceptable solution is found or max number of iterations is reached\n",
    "def sa(sol, X_train, y_train, X_test, y_test):\n",
    "    t = 1.0\n",
    "    t_min = 0.00001\n",
    "    alpha = 0.9\n",
    "    old_cost = cost(sol, X_train, y_train, X_test, y_test)\n",
    "    while t > t_min:\n",
    "        i = 1\n",
    "        while i <= 100:\n",
    "            new_sol = neighbor(sol)\n",
    "            new_cost = cost(new_sol, X_train, y_train, X_test, y_test)\n",
    "            ap = acceptance_probability(old_cost, new_cost, t)\n",
    "            if ap > random():\n",
    "                sol = new_sol\n",
    "                old_cost = new_cost\n",
    "            i += 1\n",
    "        t = t * alpha\n",
    "    return sol, cost          "
   ]
  },
  {
   "cell_type": "code",
   "execution_count": 154,
   "metadata": {},
   "outputs": [],
   "source": [
    "# Function to generate neighboring solution\n",
    "# Solution is defined as a machine learning model along with a set of parameters\n",
    "# i.e.,\n",
    "# solution = {\n",
    "#     model: 'LinearRegression',\n",
    "#     parameters: {\n",
    "#         fit_intercept: true,\n",
    "#         normalize: true,\n",
    "#         copy_X: false,\n",
    "#         n_jobs: 4,\n",
    "#     }\n",
    "# }\n",
    "def neighbor(sol):\n",
    "    # Use the search_space to find a new neighbor of the current solution and return that\n",
    "    \n",
    "    \n",
    "    # Chose a random parameter and modify it \n",
    "    parameter = choice(list(search_space[sol['name']].keys())) # random.choice()\n",
    "    print('Randomly got ', parameter)\n",
    "    \n",
    "    parameter_space = search_space[sol['name']][parameter]\n",
    "    print('Parameter space', parameter_space)\n",
    "    \n",
    "    # Grab the random parameter from our current solution and change it\n",
    "    current_parameter_val = sol['parameters'][parameter]\n",
    "    print('Current parameter value', current_parameter_val)\n",
    "    \n",
    "    # Grab the current index of the selected parameter of our model\n",
    "    current_index = parameter_space.index(current_parameter_val)\n",
    "    \n",
    "    # In one step modify the value of the selected parameter\n",
    "    if current_index == 0:\n",
    "        # index = 0 -> index++\n",
    "        modified_parameter = parameter_space[1];\n",
    "    elif current_index == len(parameter_space):\n",
    "        # index = length -> index--\n",
    "        modified_parameter = parameter_space[current_index - 1]\n",
    "    else: \n",
    "        # index = index + random(-1,1)\n",
    "        modified_parameter = parameter_space[current_index + choice([-1, 1])]\n",
    "    \n",
    "    # Create a new solution copy the current one and replace the randomly chosen parameter\n",
    "    new_sol = sol\n",
    "    new_sol['parameters'][parameter] = modified_parameter\n",
    "    print('New parameter value', modified_par)\n",
    "    # Return new neighboring solution\n",
    "    return new_sol"
   ]
  },
  {
   "cell_type": "code",
   "execution_count": 60,
   "metadata": {},
   "outputs": [],
   "source": [
    "# Function to return the cost of a current solution\n",
    "# In our case the cost is the accuracy (or we can use other metrics) of the current ML model / parameter configuration\n",
    "# TODO: RMSE or some other metric?\n",
    "def cost(sol, X_train, y_train, X_test, y_test): \n",
    "    # Get model\n",
    "    model = get_model(sol['name'], sol['parameters'])\n",
    "    \n",
    "    # Train model on data\n",
    "    model.fit(X_train, y_train)\n",
    "    \n",
    "    # Predictions\n",
    "    predictions = model.predict(X_test)\n",
    "    \n",
    "    # Get accuracy or some other metric and return\n",
    "    score = model.score(X_test, y_test)\n",
    "    \n",
    "    return score"
   ]
  },
  {
   "cell_type": "code",
   "execution_count": 58,
   "metadata": {},
   "outputs": [],
   "source": [
    "# Function to get a model with a parameter configuration\n",
    "def get_model(name, parameters):\n",
    "    # LogisticRegression\n",
    "    if name == 'LogisticRegression':\n",
    "        lr = LogisticRegression(parameters)\n",
    "        return lr\n",
    "    # Model2\n",
    "    elif name == '':\n",
    "        return\n",
    "    # Model3\n",
    "    elif name == '':\n",
    "        return\n",
    "    # Model4\n",
    "    elif name == '':\n",
    "        return\n",
    "    # Model5\n",
    "    elif name == '':\n",
    "        return\n",
    "    # Default\n",
    "    else:\n",
    "        return"
   ]
  },
  {
   "cell_type": "code",
   "execution_count": 61,
   "metadata": {},
   "outputs": [],
   "source": [
    "# Function which recommends if we should jump to a new solutions or not\n",
    "# 1.0 - definitely switch\n",
    "# 0.0 - definitely stay put\n",
    "# 0.5 - 50/50 odds of switching\n",
    "# Usually calculated by e^((c_new - c_old)/t)\n",
    "\n",
    "def acceptance_probability(old_cost, new_cost, t): \n",
    "    if new_cost < old_cost:\n",
    "        return 1.0\n",
    "    else:\n",
    "        return math.exp((new_cost - old_cost)/t)"
   ]
  },
  {
   "cell_type": "markdown",
   "metadata": {},
   "source": [
    "## ML Models"
   ]
  },
  {
   "cell_type": "code",
   "execution_count": 104,
   "metadata": {},
   "outputs": [],
   "source": [
    "# TODO: Define 5 ML models\n",
    "\n",
    "# Search Space that will be used to define our neighborhood of ML models and hyperparameters\n",
    "# Basically our dictionary defining the model, its most important parameters, and their value ranges\n",
    "search_space = {\n",
    "    'LogisticRegression': {\n",
    "        'penalty': ['l1', 'l2'],\n",
    "        'C': np.logspace(-4, 4, 20).tolist(),\n",
    "        'solver': ['liblinear', 'saga'],\n",
    "    },\n",
    "    'Model2': {\n",
    "        'property1': 'value_range',\n",
    "        'property2': 'value_range',\n",
    "        'property3': 'value_range',\n",
    "        'property4': 'value_range'\n",
    "    },\n",
    "    'Model3': {\n",
    "        'property1': 'value_range',\n",
    "        'property2': 'value_range',\n",
    "        'property3': 'value_range',\n",
    "        'property4': 'value_range'\n",
    "    },\n",
    "    'Model4': {\n",
    "        'property1': 'value_range',\n",
    "        'property2': 'value_range',\n",
    "        'property3': 'value_range',\n",
    "        'property4': 'value_range'\n",
    "    },\n",
    "    'Model5': {\n",
    "        'property1': 'value_range',\n",
    "        'property2': 'value_range',\n",
    "        'property3': 'value_range',\n",
    "        'property4': 'value_range'\n",
    "    }\n",
    "}"
   ]
  },
  {
   "cell_type": "code",
   "execution_count": 105,
   "metadata": {},
   "outputs": [
    {
     "data": {
      "text/plain": [
       "[0.0001,\n",
       " 0.00026366508987303583,\n",
       " 0.0006951927961775605,\n",
       " 0.0018329807108324356,\n",
       " 0.004832930238571752,\n",
       " 0.012742749857031334,\n",
       " 0.03359818286283781,\n",
       " 0.08858667904100823,\n",
       " 0.23357214690901212,\n",
       " 0.615848211066026,\n",
       " 1.623776739188721,\n",
       " 4.281332398719396,\n",
       " 11.288378916846883,\n",
       " 29.763514416313132,\n",
       " 78.47599703514607,\n",
       " 206.913808111479,\n",
       " 545.5594781168514,\n",
       " 1438.44988828766,\n",
       " 3792.690190732246,\n",
       " 10000.0]"
      ]
     },
     "execution_count": 105,
     "metadata": {},
     "output_type": "execute_result"
    }
   ],
   "source": [
    "search_space['LogisticRegression']['C']"
   ]
  },
  {
   "cell_type": "code",
   "execution_count": 102,
   "metadata": {},
   "outputs": [
    {
     "data": {
      "text/plain": [
       "0.00026366509"
      ]
     },
     "execution_count": 102,
     "metadata": {},
     "output_type": "execute_result"
    }
   ],
   "source": [
    "2.63665090e-04"
   ]
  },
  {
   "cell_type": "code",
   "execution_count": 110,
   "metadata": {},
   "outputs": [
    {
     "data": {
      "text/plain": [
       "1"
      ]
     },
     "execution_count": 110,
     "metadata": {},
     "output_type": "execute_result"
    }
   ],
   "source": []
  },
  {
   "cell_type": "markdown",
   "metadata": {},
   "source": [
    "## Datasets"
   ]
  },
  {
   "cell_type": "code",
   "execution_count": 51,
   "metadata": {},
   "outputs": [],
   "source": [
    "# TODO: Define datasets\n",
    "\n",
    "# Iris\n",
    "iris = datasets.load_iris()\n",
    "X = iris.data\n",
    "y = iris.target\n",
    "X_train, y_train, X_test, y_test = train_test_split(X, y, test_size = 0.3, random_state = 42)"
   ]
  },
  {
   "cell_type": "markdown",
   "metadata": {},
   "source": [
    "## Evaluation"
   ]
  },
  {
   "cell_type": "code",
   "execution_count": 158,
   "metadata": {},
   "outputs": [
    {
     "name": "stdout",
     "output_type": "stream",
     "text": [
      "Randomly got  C\n",
      "Parameter space [0.0001, 0.00026366508987303583, 0.0006951927961775605, 0.0018329807108324356, 0.004832930238571752, 0.012742749857031334, 0.03359818286283781, 0.08858667904100823, 0.23357214690901212, 0.615848211066026, 1.623776739188721, 4.281332398719396, 11.288378916846883, 29.763514416313132, 78.47599703514607, 206.913808111479, 545.5594781168514, 1438.44988828766, 3792.690190732246, 10000.0]\n",
      "Current parameter value 0.23357214690901212\n"
     ]
    },
    {
     "data": {
      "text/plain": [
       "{'name': 'LogisticRegression',\n",
       " 'parameters': {'penalty': 'l2',\n",
       "  'C': 0.08858667904100823,\n",
       "  'solver': 'liblinear',\n",
       "  'n_jobs': -1}}"
      ]
     },
     "execution_count": 158,
     "metadata": {},
     "output_type": "execute_result"
    }
   ],
   "source": [
    "# Some random solution that we will pass to the sa() to start with\n",
    "\n",
    "# LogisticRegression\n",
    "random_lr_solution = {\n",
    "    'name': 'LogisticRegression',\n",
    "    'parameters': {\n",
    "        'penalty': 'l2',\n",
    "        'C': 0.23357214690901212,\n",
    "        'solver': 'liblinear',\n",
    "        'n_jobs': -1\n",
    "    }\n",
    "}\n",
    "\n",
    "# # search_space[random_lr_solution['name']]['C'][0]\n",
    "# # random_lr_solution['parameters']['C']\n",
    "# index = search_space[random_lr_solution['name']]['C'].index(random_lr_solution['parameters']['C'])\n",
    "# index\n",
    "\n",
    "neighbor(random_lr_solution)"
   ]
  },
  {
   "cell_type": "code",
   "execution_count": 157,
   "metadata": {},
   "outputs": [
    {
     "ename": "NameError",
     "evalue": "name 'sa' is not defined",
     "output_type": "error",
     "traceback": [
      "\u001b[1;31m---------------------------------------------------------------------------\u001b[0m",
      "\u001b[1;31mNameError\u001b[0m                                 Traceback (most recent call last)",
      "\u001b[1;32m<ipython-input-157-079fbb9b144d>\u001b[0m in \u001b[0;36m<module>\u001b[1;34m\u001b[0m\n\u001b[1;32m----> 1\u001b[1;33m \u001b[0msa\u001b[0m\u001b[1;33m(\u001b[0m\u001b[0mrandom_solution\u001b[0m\u001b[1;33m,\u001b[0m \u001b[0mX_train\u001b[0m\u001b[1;33m,\u001b[0m \u001b[0my_train\u001b[0m\u001b[1;33m,\u001b[0m \u001b[0mX_test\u001b[0m\u001b[1;33m,\u001b[0m \u001b[0my_test\u001b[0m\u001b[1;33m)\u001b[0m\u001b[1;33m\u001b[0m\u001b[1;33m\u001b[0m\u001b[0m\n\u001b[0m",
      "\u001b[1;31mNameError\u001b[0m: name 'sa' is not defined"
     ]
    }
   ],
   "source": [
    "sa(random_solution, X_train, y_train, X_test, y_test)"
   ]
  },
  {
   "cell_type": "code",
   "execution_count": 142,
   "metadata": {},
   "outputs": [
    {
     "data": {
      "text/plain": [
       "[0.0001,\n",
       " 0.00026366508987303583,\n",
       " 0.0006951927961775605,\n",
       " 0.0018329807108324356,\n",
       " 0.004832930238571752,\n",
       " 0.012742749857031334,\n",
       " 0.03359818286283781,\n",
       " 0.08858667904100823,\n",
       " 0.23357214690901212,\n",
       " 0.615848211066026,\n",
       " 1.623776739188721,\n",
       " 4.281332398719396,\n",
       " 11.288378916846883,\n",
       " 29.763514416313132,\n",
       " 78.47599703514607,\n",
       " 206.913808111479,\n",
       " 545.5594781168514,\n",
       " 1438.44988828766,\n",
       " 3792.690190732246,\n",
       " 10000.0]"
      ]
     },
     "execution_count": 142,
     "metadata": {},
     "output_type": "execute_result"
    }
   ],
   "source": [
    "search_space[random_lr_solution['name']]['C']"
   ]
  },
  {
   "cell_type": "code",
   "execution_count": null,
   "metadata": {},
   "outputs": [],
   "source": []
  }
 ],
 "metadata": {
  "kernelspec": {
   "display_name": "Python 3",
   "language": "python",
   "name": "python3"
  },
  "language_info": {
   "codemirror_mode": {
    "name": "ipython",
    "version": 3
   },
   "file_extension": ".py",
   "mimetype": "text/x-python",
   "name": "python",
   "nbconvert_exporter": "python",
   "pygments_lexer": "ipython3",
   "version": "3.7.4"
  }
 },
 "nbformat": 4,
 "nbformat_minor": 2
}
